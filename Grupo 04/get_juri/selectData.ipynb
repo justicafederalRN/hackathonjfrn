{
 "cells": [
  {
   "cell_type": "code",
   "execution_count": 1,
   "metadata": {
    "collapsed": true,
    "scrolled": false
   },
   "outputs": [],
   "source": [
    "import pandas as pd\n",
    "import yang_test as yt"
   ]
  },
  {
   "cell_type": "code",
   "execution_count": 5,
   "metadata": {},
   "outputs": [
    {
     "name": "stdout",
     "output_type": "stream",
     "text": [
      "\n",
      "Procedencia P\n",
      "\n",
      "\n",
      "Codigo: 0812668-52.2016.4.05.8400\n",
      "Juiz: IVAN LIRA DE CARVALHO\n",
      "2. É pacífica a jurisprudência do eg. Superior Tribunal de Justiça, no sentido de que até a publicação do regulamento da\n",
      "reestruturação da Carreira do Magistério do Ensino Básico, Técnico e Tecnológico, previsto no caput do art. 120 na Lei nº\n",
      "11.784/08, o que só ocorreu com o Decreto nº 7.806/12 (DOU de 18/09/12), aplica-se o regime anterior previsto nos arts. 13\n",
      "e  14  na  Lei  nº  11.344/06, pelo  qual  era  autorizada  a  progressão  funcional  por  titulação  independentemente  do\n",
      "interstício de 18 meses.\n",
      "\n",
      "\n",
      "Codigo: 0812354-09.2016.4.05.8400\n",
      "Juiz: IVAN LIRA DE CARVALHO\n",
      "5. Consoante jurisprudência pacífica do Superior Tribunal de Justiça, é possível a cobrança da capitalização\n",
      "mensal de juros, desde que pactuada, nos contratos bancários celebrados após a edição da Medida Provisória\n",
      "nº 1.963-17, de 30 de março de 2000 (MP n. 2.170-36/2001).\n",
      "\n",
      "\n",
      "\n",
      "Procedencia I\n",
      "\n",
      "\n",
      "Codigo: 0812648-61.2016.4.05.8400\n",
      "Juiz: IVAN LIRA DE CARVALHO\n",
      "Entretanto, a jurisprudência tem entendido que, em determinadas situações, dada a ocorrência de aspectos circunstanciais\n",
      "peculiares  que  não  estariam  albergadas  nas  previsões  genéricas  do  edital,  é  possível  rever  um  ato  praticado  pela\n",
      "autoridade administrativa responsável pelo concurso, utilizando-se dos postulados da razoabilidade e da proporcionalidade,\n",
      "que  devem  nortear  todos  os  atos  administrativos  (nesse  sentido:  STJ,  5ª  Turma,  ROMS  200302381047,  relator  Félix\n",
      "Fischer, DJ 14.02.2005, p. 218).\n",
      "\n",
      "\n",
      "Codigo: 0812337-70.2016.4.05.8400\n",
      "Juiz: IVAN LIRA DE CARVALHO\n",
      "Entretanto, a jurisprudência tem entendido que, em determinadas situações, dada a ocorrência de aspectos circunstanciais\n",
      "peculiares  que  não  estariam  albergadas  nas  previsões  genéricas  do  edital,  é  possível  rever  um  ato  praticado  pela\n",
      "autoridade administrativa responsável pelo concurso, utilizando-se dos postulados da razoabilidade e da proporcionalidade,\n",
      "que  devem  nortear  todos  os  atos  administrativos  (nesse  sentido:  STJ,  5ª  Turma,  ROMS  200302381047,  relator  Félix\n",
      "Fischer, DJ 14.02.2005, p. 218).\n",
      "\n",
      "\n"
     ]
    },
    {
     "data": {
      "text/html": [
       "<div>\n",
       "<style>\n",
       "    .dataframe thead tr:only-child th {\n",
       "        text-align: right;\n",
       "    }\n",
       "\n",
       "    .dataframe thead th {\n",
       "        text-align: left;\n",
       "    }\n",
       "\n",
       "    .dataframe tbody tr th {\n",
       "        vertical-align: top;\n",
       "    }\n",
       "</style>\n",
       "<table border=\"1\" class=\"dataframe\">\n",
       "  <thead>\n",
       "    <tr style=\"text-align: right;\">\n",
       "      <th></th>\n",
       "      <th>level_0</th>\n",
       "      <th>index</th>\n",
       "      <th>cod</th>\n",
       "      <th>assunto</th>\n",
       "      <th>procedencia</th>\n",
       "      <th>juiz</th>\n",
       "    </tr>\n",
       "  </thead>\n",
       "  <tbody>\n",
       "    <tr>\n",
       "      <th>0</th>\n",
       "      <td>0</td>\n",
       "      <td>5</td>\n",
       "      <td>0812743-57.2017.4.05.8400</td>\n",
       "      <td>Revisão/Desconstituição de Ato Administrativo</td>\n",
       "      <td>P</td>\n",
       "      <td>IVAN LIRA DE CARVALHO</td>\n",
       "    </tr>\n",
       "    <tr>\n",
       "      <th>1</th>\n",
       "      <td>1</td>\n",
       "      <td>9</td>\n",
       "      <td>0812668-52.2016.4.05.8400</td>\n",
       "      <td>Descontos Indevidos</td>\n",
       "      <td>P</td>\n",
       "      <td>IVAN LIRA DE CARVALHO</td>\n",
       "    </tr>\n",
       "    <tr>\n",
       "      <th>2</th>\n",
       "      <td>2</td>\n",
       "      <td>12</td>\n",
       "      <td>0812537-43.2017.4.05.8400</td>\n",
       "      <td>Constrição / Penhora / Avaliação / Indisponibi...</td>\n",
       "      <td>P</td>\n",
       "      <td>IVAN LIRA DE CARVALHO</td>\n",
       "    </tr>\n",
       "    <tr>\n",
       "      <th>3</th>\n",
       "      <td>3</td>\n",
       "      <td>14</td>\n",
       "      <td>0812354-09.2016.4.05.8400</td>\n",
       "      <td>Cédula de Crédito Bancário</td>\n",
       "      <td>P</td>\n",
       "      <td>IVAN LIRA DE CARVALHO</td>\n",
       "    </tr>\n",
       "    <tr>\n",
       "      <th>4</th>\n",
       "      <td>4</td>\n",
       "      <td>15</td>\n",
       "      <td>0812353-24.2016.4.05.8400</td>\n",
       "      <td>Obrigação de Fazer / Não Fazer</td>\n",
       "      <td>P</td>\n",
       "      <td>IVAN LIRA DE CARVALHO</td>\n",
       "    </tr>\n",
       "  </tbody>\n",
       "</table>\n",
       "</div>"
      ],
      "text/plain": [
       "   level_0  index                        cod  \\\n",
       "0        0      5  0812743-57.2017.4.05.8400   \n",
       "1        1      9  0812668-52.2016.4.05.8400   \n",
       "2        2     12  0812537-43.2017.4.05.8400   \n",
       "3        3     14  0812354-09.2016.4.05.8400   \n",
       "4        4     15  0812353-24.2016.4.05.8400   \n",
       "\n",
       "                                             assunto procedencia  \\\n",
       "0      Revisão/Desconstituição de Ato Administrativo           P   \n",
       "1                                Descontos Indevidos           P   \n",
       "2  Constrição / Penhora / Avaliação / Indisponibi...           P   \n",
       "3                         Cédula de Crédito Bancário           P   \n",
       "4                     Obrigação de Fazer / Não Fazer           P   \n",
       "\n",
       "                    juiz  \n",
       "0  IVAN LIRA DE CARVALHO  \n",
       "1  IVAN LIRA DE CARVALHO  \n",
       "2  IVAN LIRA DE CARVALHO  \n",
       "3  IVAN LIRA DE CARVALHO  \n",
       "4  IVAN LIRA DE CARVALHO  "
      ]
     },
     "execution_count": 5,
     "metadata": {},
     "output_type": "execute_result"
    }
   ],
   "source": [
    "metadata = pd.read_csv('agoraVai.csv', encoding =\"utf8\")\n",
    "\n",
    "num = 2\n",
    "assunto = \"Descontos Indevidos\"\n",
    "juiz = 'IVAN LIRA DE CARVALHO'\n",
    "assunto = []\n",
    "#juiz = []\n",
    "\n",
    "columns = metadata[['cod','assunto','procedencia','juiz']]\n",
    "if juiz:\n",
    "    rows = columns.loc[metadata['juiz'] == juiz]\n",
    "if assunto:\n",
    "    rows = rows.loc[metadata['assunto'] == assunto]\n",
    "    \n",
    "proc1 = rows.loc[metadata['procedencia']=='P']\n",
    "\n",
    "proc2 = rows.loc[metadata['procedencia']=='I']\n",
    "\n",
    "#proc1 = proc1[0:3]\n",
    "#proc2 = proc2[0:3]\n",
    "proc1 = proc1.reset_index()\n",
    "proc2 = proc2.reset_index()\n",
    "\n",
    "print(\"\\nProcedencia P\\n\\n\")\n",
    "\n",
    "j = 0\n",
    "for i in range(0,len(proc1)):\n",
    "    test = yt.get_paragraph('../sentenca/'+str(proc1.loc[i,'cod'])+'.pdf','jurisprudência')\n",
    "    if test!='not':\n",
    "        print (\"Codigo: \"+str(proc1.loc[i,'cod']))\n",
    "        print (\"Juiz: \"+str(proc1.loc[i,'juiz']))\n",
    "        if assunto:\n",
    "            print (\"Assunto: \"+assunto)\n",
    "        print (test)\n",
    "        print (\"\\n\")\n",
    "        j = j+1\n",
    "        \n",
    "    if j==num:\n",
    "        break\n",
    "        \n",
    "print(\"\\nProcedencia I\\n\\n\")        \n",
    "\n",
    "j = 0\n",
    "for i in range(0,len(proc2)):\n",
    "    test = yt.get_paragraph('../sentenca/'+str(proc2.loc[i,'cod'])+'.pdf','jurisprudência')\n",
    "    if test!='not':\n",
    "        print (\"Codigo: \"+str(proc2.loc[i,'cod']))\n",
    "        print (\"Juiz: \"+str(proc2.loc[i,'juiz']))\n",
    "        if assunto:\n",
    "            print (\"Assunto: \"+assunto)\n",
    "        print (test)\n",
    "        print (\"\\n\")\n",
    "        \n",
    "        j = j+1\n",
    "    if j==num:\n",
    "        break\n",
    "#str(proc1.loc[5,'cod'])\n",
    "proc1 = proc1.reset_index()\n",
    "proc1.head()"
   ]
  },
  {
   "cell_type": "markdown",
   "metadata": {},
   "source": [
    "## Filtragem de dados por assunto"
   ]
  },
  {
   "cell_type": "markdown",
   "metadata": {},
   "source": [
    "# Yang test"
   ]
  },
  {
   "cell_type": "code",
   "execution_count": null,
   "metadata": {
    "collapsed": true
   },
   "outputs": [],
   "source": []
  },
  {
   "cell_type": "code",
   "execution_count": null,
   "metadata": {
    "collapsed": true
   },
   "outputs": [],
   "source": [
    "assunto = \"Abuso de Poder\"\n",
    "#assunto_filter = assunto in metadata['assunto']\n",
    "\n",
    "\n",
    "#ubs_natal = ubs[ubs['dsc_cidade']=='Natal']\n",
    "\n",
    "columns = meta[['cod','assunto']]\n",
    "\n",
    "#for index, row in metadata.iterrows():\n",
    "#    if assunto in row['assunto']:\n",
    "#        case_assunto=case_assunto.append(row)\n",
    "\n",
    "\n",
    "#ase_assunto = metadata[\"Abuso de Poder\" == metadata['assunto']]\n",
    "\n",
    "#list (case_assunto)\n",
    "case_assunto.head(10000)"
   ]
  },
  {
   "cell_type": "markdown",
   "metadata": {},
   "source": [
    "## Filtragem de dados por Juiz"
   ]
  },
  {
   "cell_type": "code",
   "execution_count": null,
   "metadata": {
    "collapsed": true
   },
   "outputs": [],
   "source": [
    "juiz = \"IVAN LIRA DE CARVALHO\"\n",
    "\n",
    "case_juiz = pd.DataFrame(columns=['cod', 'assunto', 'vara', 'classe', 'juiz', 'procedencia'])\n",
    "\n",
    "for index, row in case_assunto.iterrows():\n",
    "    if juiz in row['juiz']:\n",
    "        case_juiz=case_juiz.append(row)\n",
    "\n",
    "\n",
    "#ase_assunto = metadata[\"Abuso de Poder\" == metadata['assunto']]\n",
    "\n",
    "list (case_juiz)\n",
    "case_juiz.head(20)"
   ]
  },
  {
   "cell_type": "markdown",
   "metadata": {},
   "source": [
    "## Filtragem de dados por Classe"
   ]
  },
  {
   "cell_type": "code",
   "execution_count": null,
   "metadata": {
    "collapsed": true
   },
   "outputs": [],
   "source": [
    "classe = \"PROCEDIMENTO COMUM\"\n",
    "\n",
    "case_classe = pd.DataFrame(columns=['cod', 'assunto', 'vara', 'classe', 'juiz', 'procedencia'])\n",
    "\n",
    "for index, row in case_juiz.iterrows():\n",
    "    if classe in row['classe']:\n",
    "        case_classe=case_classe.append(row)\n",
    "\n",
    "\n",
    "#ase_assunto = metadata[\"Abuso de Poder\" == metadata['assunto']]\n",
    "\n",
    "list (case_classe)\n",
    "case_classe.head(20)"
   ]
  },
  {
   "cell_type": "markdown",
   "metadata": {},
   "source": [
    "## Filtragem de dados por Vara"
   ]
  },
  {
   "cell_type": "code",
   "execution_count": null,
   "metadata": {
    "collapsed": true
   },
   "outputs": [],
   "source": [
    "vara = \"5ª VARA FEDERAL\"\n",
    "\n",
    "case_vara = pd.DataFrame(columns=['cod', 'assunto', 'vara', 'classe', 'juiz', 'procedencia'])\n",
    "\n",
    "for index, row in case_juiz.iterrows():\n",
    "    if vara in row['vara']:\n",
    "        case_vara=case_vara.append(row)\n",
    "\n",
    "\n",
    "#ase_assunto = metadata[\"Abuso de Poder\" == metadata['assunto']]\n",
    "\n",
    "list (case_vara)\n",
    "case_vara.head(20)"
   ]
  }
 ],
 "metadata": {
  "kernelspec": {
   "display_name": "Python 3",
   "language": "python",
   "name": "python3"
  },
  "language_info": {
   "codemirror_mode": {
    "name": "ipython",
    "version": 2
   },
   "file_extension": ".py",
   "mimetype": "text/x-python",
   "name": "python",
   "nbconvert_exporter": "python",
   "pygments_lexer": "ipython2",
   "version": "2.7.13"
  }
 },
 "nbformat": 4,
 "nbformat_minor": 2
}
